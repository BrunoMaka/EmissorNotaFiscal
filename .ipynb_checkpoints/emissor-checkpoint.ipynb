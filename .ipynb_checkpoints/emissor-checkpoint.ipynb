{
 "cells": [
  {
   "cell_type": "code",
   "execution_count": 1,
   "metadata": {},
   "outputs": [],
   "source": [
    "from selenium import webdriver\n",
    "from selenium.webdriver.common.by import By\n",
    "import pandas as pd\n",
    "import time\n",
    "#from selenium.webdriver.common.keys import Keys\n",
    "#from selenium.webdriver.support import expected_conditions as EC\n",
    "#from selenium.webdriver.support.wait import WebDriverWait"
   ]
  },
  {
   "cell_type": "code",
   "execution_count": 92,
   "metadata": {},
   "outputs": [],
   "source": [
    "class LoginFieldset:\n",
    "    def __init__(self, webdriver):        \n",
    "        self.refresh_code_button = (By.ID, 'btnAtualizar')\n",
    "        self.login_id = 'ctl00_body_tbCpfCnpj'\n",
    "        self.password = (By.ID, 'ctl00_body_tbSenha')\n",
    "        self.submit = (By.ID, \"ctl00_body_btEntrar\")       \n",
    "        self.webdriver = webdriver\n",
    "        self.emitirnotas = (By.ID, 'ctl00_wpMenuLateral_mnuRotinasn3')\n",
    "        self.cpf = (By.ID, 'ctl00_body_tbCPFCNPJTomador')        \n",
    "        self.avancar = (By.ID, 'ctl00_body_btAvancar')\n",
    "        self.description = (By.ID, 'ctl00_body_tbDiscriminacao')\n",
    "        self.value = (By.ID, 'ctl00_body_tbValor')\n",
    "        self.emitir = (By.ID, 'ctl00_body_btEmitir')\n",
    "        self.voltar = (By.ID, 'ctl00_cphBase_btVoltar')\n",
    "        \n",
    "        \n",
    "    def login(self, login, password):        \n",
    "        self.webdriver.find_element(*self.refresh_code_button).click()        \n",
    "        self.webdriver.find_element_by_id(self.login_id).send_keys(login)\n",
    "        self.webdriver.find_element(*self.password).send_keys(password)\n",
    "        time.sleep(10)\n",
    "        self.webdriver.find_element(*self.submit).click()\n",
    "        \n",
    "    def faturar(self):\n",
    "        self.webdriver.find_element(*self.emitirnotas).click()\n",
    "    \n",
    "    def emitir_notas(self, cpf, description, value):\n",
    "        self.webdriver.find_element(*self.cpf).send_keys(cpf)\n",
    "        self.webdriver.find_element(*self.avancar).click()\n",
    "        self.webdriver.find_element(*self.description).send_keys(description)\n",
    "        if len(str(value)) == 3:\n",
    "            self.webdriver.find_element(*self.value).send_keys(str(value) + '00') \n",
    "        elif len(str(value)) == 5:\n",
    "            self.webdriver.find_element(*self.value).send_keys(str(value) + '0') \n",
    "        else:\n",
    "            self.webdriver.find_element(*self.value).send_keys(str(value))        \n",
    "        self.webdriver.find_element(*self.emitir).click()\n",
    "        self.webdriver.switch_to.alert.accept()\n",
    "        self.webdriver.find_element(*self.voltar).click()        "
   ]
  },
  {
   "cell_type": "code",
   "execution_count": 94,
   "metadata": {},
   "outputs": [],
   "source": [
    "url = 'https://nfe.prefeitura.sp.gov.br/'\n",
    "CNPJ = #INCLUIR O CNPJ - APENAS NUMEROS\n",
    "password = '' # INCLUIR A SENHA \n",
    "\n",
    "browser = webdriver.Chrome('chromedriver.exe')\n",
    "#wdw = WebDriverWait(browser, 30)\n",
    "browser.get(url)\n",
    "\n",
    "entrar = LoginFieldset(browser)\n",
    "\n",
    "entrar.login(CNPJ, password)\n",
    "entrar.faturar()\n",
    "\n",
    "file_name =  'ExampleSheet.xlsx' #NOME DO ARQUIVO QUE ESTÂO AS NOTAS A SEREM FATURADAS\n",
    "sheet =  'MesA' #NOME DA ABA A SER FATURADA\n",
    "df = pd.read_excel(io=file_name, sheet_name=sheet, header=1)\n",
    "\n",
    "for index, row in df.iterrows():\n",
    "    entrar.emitir_notas(row['CPF / CNPJ'], row['DESCRIÇÃO'], row['VALOR'] )"
   ]
  }
 ],
 "metadata": {
  "kernelspec": {
   "display_name": "Python 3",
   "language": "python",
   "name": "python3"
  },
  "language_info": {
   "codemirror_mode": {
    "name": "ipython",
    "version": 3
   },
   "file_extension": ".py",
   "mimetype": "text/x-python",
   "name": "python",
   "nbconvert_exporter": "python",
   "pygments_lexer": "ipython3",
   "version": "3.7.6"
  }
 },
 "nbformat": 4,
 "nbformat_minor": 4
}
