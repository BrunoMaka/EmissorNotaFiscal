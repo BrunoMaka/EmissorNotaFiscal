{
 "cells": [
  {
   "cell_type": "code",
   "execution_count": 12,
   "metadata": {},
   "outputs": [],
   "source": [
    "from selenium.webdriver import Chrome\n",
    "from selenium.webdriver.common.by import By\n",
    "from time import sleep\n",
    "from abc import ABC\n",
    "import pandas as pd\n",
    "\n",
    "#from selenium.webdriver.common.keys import Keys\n",
    "#from selenium.webdriver.support import expected_conditions as EC\n",
    "#from selenium.webdriver.support.wait import WebDriverWait"
   ]
  },
  {
   "cell_type": "code",
   "execution_count": 23,
   "metadata": {},
   "outputs": [],
   "source": [
    "class PageElement(ABC):\n",
    "    def __init__(self, webdriver, url=''):\n",
    "        self.webdriver = webdriver\n",
    "        self.url = url\n",
    "        \n",
    "    def localizar(self, locator):\n",
    "        return self.webdriver.find_element(*locator)\n",
    "        \n",
    "    def abrir(self):\n",
    "        self.webdriver.get(self.url)\n",
    "\n",
    "class EmissorDeNotas(PageElement):\n",
    "    refresh_code_button = (By.ID, 'btnAtualizar')\n",
    "    login_id = (By.ID, 'ctl00_body_tbCpfCnpj')\n",
    "    password = (By.ID, 'ctl00_body_tbSenha')\n",
    "    submit = (By.ID, \"ctl00_body_btEntrar\")          \n",
    "    emitirnotas = (By.ID, 'ctl00_wpMenuLateral_mnuRotinasn3')\n",
    "    cpf = (By.ID, 'ctl00_body_tbCPFCNPJTomador')        \n",
    "    avancar = (By.ID, 'ctl00_body_btAvancar')\n",
    "    description = (By.ID, 'ctl00_body_tbDiscriminacao')\n",
    "    value = (By.ID, 'ctl00_body_tbValor')\n",
    "    emitir = (By.ID, 'ctl00_body_btEmitir')\n",
    "    voltar = (By.ID, 'ctl00_cphBase_btVoltar')      \n",
    "        \n",
    "    def login(self, login, password):        \n",
    "        self.localizar(self.refresh_code_button).click()        \n",
    "        self.localizar(self.login_id).send_keys(login)\n",
    "        self.localizar(self.password).send_keys(password)\n",
    "        sleep(10)\n",
    "        self.localizar(self.submit).click()\n",
    "        \n",
    "    def faturar(self):\n",
    "        self.localizar(self.emitirnotas).click()\n",
    "    \n",
    "    def emitir_notas(self, cpf, description, value):\n",
    "        self.localizar(self.cpf).send_keys(cpf)\n",
    "        self.localizar(self.avancar).click()\n",
    "        self.localizar(self.description).send_keys(description)\n",
    "        if len(str(value)) == 3:\n",
    "            self.localizar(self.value).send_keys(str(value) + '00') \n",
    "        elif len(str(value)) == 5:\n",
    "            self.localizar(self.value).send_keys(str(value) + '0') \n",
    "        else:\n",
    "            self.localizar(self.value).send_keys(str(value))        \n",
    "        self.localizar(self.emitir).click()\n",
    "        self.webdriver.switch_to.alert.accept()\n",
    "        self.localizar(self.voltar).click()   "
   ]
  },
  {
   "cell_type": "code",
   "execution_count": 24,
   "metadata": {},
   "outputs": [],
   "source": [
    "url = 'https://nfe.prefeitura.sp.gov.br/'\n",
    "CNPJ = #INCLUIR O CNPJ - APENAS NUMEROS\n",
    "password = '' # INCLUIR A SENHA \n",
    "\n",
    "webdriver = Chrome()\n",
    "\n",
    "emissor = EmissorDeNotas(webdriver, url)\n",
    "\n",
    "emissor.abrir()\n",
    "\n",
    "emissor.login(CNPJ, password)\n",
    "\n",
    "emissor.faturar()\n",
    "\n",
    "file_name =  'ExampleSheet.xlsx' #NOME DO ARQUIVO QUE ESTÂO AS NOTAS A SEREM FATURADAS\n",
    "sheet =  'MesA' #NOME DA ABA A SER FATURADA\n",
    "df = pd.read_excel(io=file_name, sheet_name=sheet, header=1)\n",
    "\n",
    "for index, row in df.iterrows():\n",
    "    emissor.emitir_notas(row['CPF / CNPJ'], row['DESCRIÇÃO'], row['VALOR'] )"
   ]
  },
  {
   "cell_type": "code",
   "execution_count": null,
   "metadata": {},
   "outputs": [],
   "source": []
  }
 ],
 "metadata": {
  "kernelspec": {
   "display_name": "Python 3",
   "language": "python",
   "name": "python3"
  },
  "language_info": {
   "codemirror_mode": {
    "name": "ipython",
    "version": 3
   },
   "file_extension": ".py",
   "mimetype": "text/x-python",
   "name": "python",
   "nbconvert_exporter": "python",
   "pygments_lexer": "ipython3",
   "version": "3.7.6"
  }
 },
 "nbformat": 4,
 "nbformat_minor": 4
}
