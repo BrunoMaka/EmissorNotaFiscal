{
 "cells": [
  {
   "cell_type": "code",
   "execution_count": 1,
   "metadata": {},
   "outputs": [],
   "source": [
    "from selenium import webdriver\n",
    "from selenium.webdriver.common.keys import Keys\n",
    "from selenium.webdriver.support import expected_conditions as EC\n",
    "from selenium.webdriver.common.by import By\n",
    "from selenium.webdriver.support.wait import WebDriverWait"
   ]
  },
  {
   "cell_type": "code",
   "execution_count": 2,
   "metadata": {},
   "outputs": [],
   "source": [
    "import pandas as pd\n",
    "import time"
   ]
  },
  {
   "cell_type": "code",
   "execution_count": 4,
   "metadata": {},
   "outputs": [],
   "source": [
    "url = 'https://nfe.prefeitura.sp.gov.br/'\n",
    "CNPJ = #INCLUIR O CNPJ - APENAS NUMEROS\n",
    "password = '' # INCLUIR A SENHA \n",
    "faturar = webdriver.Chrome('chromedriver.exe')\n",
    "wdw = WebDriverWait(faturar, 30)\n",
    "faturar.get(url)\n",
    "\n",
    "login_locator = (By.ID, 'ctl00_body_tbCpfCnpj')\n",
    "CPF_locator = (By.ID, 'ctl00_body_tbCPFCNPJTomador')\n",
    "description_locator = (By.ID, 'ctl00_body_tbDiscriminacao')\n",
    "value_locator = (By.ID, 'ctl00_body_tbValor')\n",
    "voltar_locator = (By.ID, 'ctl00_cphBase_btVoltar')\n",
    "\n",
    "file_name =  'ExampleSheet.xlsx' #NOME DO ARQUIVO QUE ESTÂO AS NOTAS A SEREM FATURADAS\n",
    "sheet =  'MesA' #NOME DA ABA A SER FATURADA\n",
    "df = pd.read_excel(io=file_name, sheet_name=sheet, header=1)\n",
    "\n",
    "wdw.until(EC.presence_of_element_located(login_locator))\n",
    "faturar.find_element_by_id('btnAtualizar').click()\n",
    "time.sleep(3)\n",
    "login = faturar.find_element_by_id('ctl00_body_tbCpfCnpj')\n",
    "login.send_keys(CNPJ)\n",
    "senha = faturar.find_element_by_id('ctl00_body_tbSenha')\n",
    "senha.send_keys(password)\n",
    "botao = faturar.find_element_by_id('ctl00_body_btEntrar')\n",
    "time.sleep(10)\n",
    "botao.click()\n",
    "time.sleep(5)\n",
    "faturar.find_element_by_id('ctl00_wpMenuLateral_mnuRotinasn3').click()\n",
    "wdw.until(EC.presence_of_element_located(CPF_locator))\n",
    "for index, row in df.iterrows():    \n",
    "    valorafaturar = row['VALOR']\n",
    "    CPF_input = faturar.find_element_by_id('ctl00_body_tbCPFCNPJTomador')\n",
    "    CPF_input.send_keys(row['CPF / CNPJ'])\n",
    "    time.sleep(1)\n",
    "    wdw.until(EC.presence_of_element_located(CPF_locator))\n",
    "    faturar.find_element_by_id('ctl00_body_btAvancar').click()\n",
    "    wdw.until(EC.presence_of_element_located(description_locator))\n",
    "    description_input = faturar.find_element_by_id('ctl00_body_tbDiscriminacao')\n",
    "    description_input.send_keys(row['DESCRIÇÃO'])\n",
    "    wdw.until(EC.presence_of_element_located(value_locator))\n",
    "    value_input = faturar.find_element_by_id('ctl00_body_tbValor')\n",
    "    if len(str(valorafaturar)) == 3:\n",
    "        value_input.send_keys(str(valorafaturar) + '00')\n",
    "    elif len(str(valorafaturar)) == 5:\n",
    "        value_input.send_keys(str(valorafaturar) + '0')\n",
    "    else:\n",
    "        value_input.send_keys(str(valorafaturar))\n",
    "    time.sleep(2)\n",
    "    faturar.find_element_by_id('ctl00_body_btEmitir').click()\n",
    "    time.sleep(3)\n",
    "    faturar.switch_to.alert.accept()\n",
    "    wdw.until(EC.presence_of_element_located(voltar_locator))\n",
    "    faturar.find_element_by_id('ctl00_cphBase_btVoltar').click()"
   ]
  }
 ],
 "metadata": {
  "kernelspec": {
   "display_name": "Python 3",
   "language": "python",
   "name": "python3"
  },
  "language_info": {
   "codemirror_mode": {
    "name": "ipython",
    "version": 3
   },
   "file_extension": ".py",
   "mimetype": "text/x-python",
   "name": "python",
   "nbconvert_exporter": "python",
   "pygments_lexer": "ipython3",
   "version": "3.7.6"
  }
 },
 "nbformat": 4,
 "nbformat_minor": 4
}
